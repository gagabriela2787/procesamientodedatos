{
  "nbformat": 4,
  "nbformat_minor": 0,
  "metadata": {
    "colab": {
      "provenance": [],
      "include_colab_link": true
    },
    "kernelspec": {
      "name": "python3",
      "display_name": "Python 3"
    },
    "language_info": {
      "name": "python"
    }
  },
  "cells": [
    {
      "cell_type": "markdown",
      "metadata": {
        "id": "view-in-github",
        "colab_type": "text"
      },
      "source": [
        "<a href=\"https://colab.research.google.com/github/gagabriela2787/procesamientodedatos/blob/main/numpyej.ipynb\" target=\"_parent\"><img src=\"https://colab.research.google.com/assets/colab-badge.svg\" alt=\"Open In Colab\"/></a>"
      ]
    },
    {
      "cell_type": "markdown",
      "source": [
        "Numpy\n",
        "\n",
        "Proceso de instalación\n",
        "\n",
        "\n",
        "Creacion de arreglos a partir de listas\n",
        "\n",
        "\n",
        "Con numeros prefijados\n",
        "\n",
        "\n",
        "Con numeros aleatorios"
      ],
      "metadata": {
        "id": "kKCYdyUGi7iX"
      }
    },
    {
      "cell_type": "code",
      "execution_count": null,
      "metadata": {
        "id": "CcjiGRdki57i"
      },
      "outputs": [],
      "source": [
        "#importar numpy\n",
        "import numpy as np\n"
      ]
    },
    {
      "cell_type": "code",
      "source": [
        "#crear un arreglo unidimesional\n",
        "arreglo1=np.array([1,2,3,4,5])\n",
        "print(arreglo1)"
      ],
      "metadata": {
        "id": "xB6hGrSApaHk",
        "colab": {
          "base_uri": "https://localhost:8080/"
        },
        "outputId": "fb633943-c972-48c3-b689-2e4cae32e081"
      },
      "execution_count": null,
      "outputs": [
        {
          "output_type": "stream",
          "name": "stdout",
          "text": [
            "[1 2 3 4 5]\n"
          ]
        }
      ]
    },
    {
      "cell_type": "code",
      "source": [
        "#crear arreglo de dos dimensiones\n",
        "matrix=np.array([[1,2,3],[4,5,6]])\n",
        "print(matrix)"
      ],
      "metadata": {
        "id": "u9I_UUfLqOJV",
        "colab": {
          "base_uri": "https://localhost:8080/"
        },
        "outputId": "1efb07c6-cfa0-4cea-d4e2-d9e5a3c28a52"
      },
      "execution_count": null,
      "outputs": [
        {
          "output_type": "stream",
          "name": "stdout",
          "text": [
            "[[1 2 3]\n",
            " [4 5 6]]\n"
          ]
        }
      ]
    },
    {
      "cell_type": "code",
      "source": [
        "arreglo3=np.array([matrix, matrix])\n",
        "print(arreglo3)"
      ],
      "metadata": {
        "id": "ddmTvQ-Hq6jV",
        "colab": {
          "base_uri": "https://localhost:8080/"
        },
        "outputId": "0948e4b8-df2d-4d7e-c6a6-ef1dea090cf3"
      },
      "execution_count": null,
      "outputs": [
        {
          "output_type": "stream",
          "name": "stdout",
          "text": [
            "[[[1 2 3]\n",
            "  [4 5 6]]\n",
            "\n",
            " [[1 2 3]\n",
            "  [4 5 6]]]\n"
          ]
        }
      ]
    },
    {
      "cell_type": "code",
      "source": [
        "#uso de arange\n",
        "a=np.arange(1,11)\n",
        "print(a)\n",
        "\n",
        "print(\"ndim: \", a.ndim)\n",
        "print(\"shape:\", a.shape)\n",
        "print(\"size: \", a.size)\n"
      ],
      "metadata": {
        "id": "WFW-rsl6wItU",
        "colab": {
          "base_uri": "https://localhost:8080/"
        },
        "outputId": "d7b00754-154c-49f7-d3c4-91eaed588615"
      },
      "execution_count": null,
      "outputs": [
        {
          "output_type": "stream",
          "name": "stdout",
          "text": [
            "[ 1  2  3  4  5  6  7  8  9 10]\n",
            "ndim:  1\n",
            "shape: (10,)\n",
            "size:  10\n"
          ]
        }
      ]
    },
    {
      "cell_type": "markdown",
      "source": [
        "Ejercicio:\n",
        "Crear una matriz de 3 filas y 5 columnas,\n",
        "\n",
        " completados con los numeros del 1 al 15.\n"
      ],
      "metadata": {
        "id": "5vHddKiAsJb6"
      }
    },
    {
      "cell_type": "code",
      "source": [
        "matriz = np.arange(1, 10).reshape(3, 3)\n",
        "print(matriz)"
      ],
      "metadata": {
        "id": "hgA-HKnTwr0G",
        "colab": {
          "base_uri": "https://localhost:8080/"
        },
        "outputId": "00c9ac1f-2439-451d-ece7-1f3ad76a4e5e"
      },
      "execution_count": null,
      "outputs": [
        {
          "output_type": "stream",
          "name": "stdout",
          "text": [
            "[[1 2 3]\n",
            " [4 5 6]\n",
            " [7 8 9]]\n"
          ]
        }
      ]
    },
    {
      "cell_type": "code",
      "source": [
        "print(\"ndim: \", matriz.ndim)\n",
        "print(\"shape:\", matriz.shape)\n",
        "print(\"size: \", matriz.size)"
      ],
      "metadata": {
        "colab": {
          "base_uri": "https://localhost:8080/"
        },
        "id": "m-R2IPag7Uwp",
        "outputId": "c5a14d83-b46f-4894-eb93-3472000f9ec5"
      },
      "execution_count": null,
      "outputs": [
        {
          "output_type": "stream",
          "name": "stdout",
          "text": [
            "ndim:  2\n",
            "shape: (3, 3)\n",
            "size:  9\n"
          ]
        }
      ]
    },
    {
      "cell_type": "code",
      "source": [
        "# creando un arreglo con 0\n",
        "arreglo=np.zeros((4,5))\n",
        "print(arreglo)"
      ],
      "metadata": {
        "id": "hwku0ppPo7Hp",
        "colab": {
          "base_uri": "https://localhost:8080/"
        },
        "outputId": "8a8fac4f-7ee2-4ce6-d38a-a19f581134cb"
      },
      "execution_count": null,
      "outputs": [
        {
          "output_type": "stream",
          "name": "stdout",
          "text": [
            "[[0. 0. 0. 0. 0.]\n",
            " [0. 0. 0. 0. 0.]\n",
            " [0. 0. 0. 0. 0.]\n",
            " [0. 0. 0. 0. 0.]]\n"
          ]
        }
      ]
    },
    {
      "cell_type": "code",
      "source": [
        "print(\"ndim: \", arreglo.ndim)\n",
        "print(\"shape:\", arreglo.shape)\n",
        "print(\"size: \", arreglo.size)"
      ],
      "metadata": {
        "id": "RvuOUnoDEXre"
      },
      "execution_count": null,
      "outputs": []
    },
    {
      "cell_type": "code",
      "source": [
        "# hacer lo mismo pero con una matriz"
      ],
      "metadata": {
        "id": "ssGAhkBZq3sq"
      },
      "execution_count": null,
      "outputs": []
    },
    {
      "cell_type": "code",
      "source": [
        "#creando un arreglo con 1\n",
        "arreglo=np.ones((2,3))\n",
        "print(arreglo)"
      ],
      "metadata": {
        "id": "z0jRy_rfpbq9",
        "colab": {
          "base_uri": "https://localhost:8080/"
        },
        "outputId": "dc6d6f6f-e1f4-47e9-e701-2969fc360389"
      },
      "execution_count": null,
      "outputs": [
        {
          "output_type": "stream",
          "name": "stdout",
          "text": [
            "[[1. 1. 1.]\n",
            " [1. 1. 1.]]\n"
          ]
        }
      ]
    },
    {
      "cell_type": "code",
      "source": [
        "#creando un arreglo con un mismo numero\n",
        "arreglo=np.full(9,3)\n",
        "print(arreglo)"
      ],
      "metadata": {
        "id": "Q1ToBpr-plpZ",
        "colab": {
          "base_uri": "https://localhost:8080/"
        },
        "outputId": "c61e462a-39a1-4b83-d736-af0796f7178e"
      },
      "execution_count": null,
      "outputs": [
        {
          "output_type": "stream",
          "name": "stdout",
          "text": [
            "[3 3 3 3 3 3 3 3 3]\n"
          ]
        }
      ]
    },
    {
      "cell_type": "code",
      "source": [
        "#Crear un arreglo con valores uniformemente espaciados\n",
        "arreglo=np.linspace(1, 2, 5)\n",
        "print(arreglo)"
      ],
      "metadata": {
        "id": "qXOf0XEwrsvf",
        "colab": {
          "base_uri": "https://localhost:8080/"
        },
        "outputId": "0ad5ed76-cda4-45f7-8470-0c2d85c77191"
      },
      "execution_count": null,
      "outputs": [
        {
          "output_type": "stream",
          "name": "stdout",
          "text": [
            "[1.   1.25 1.5  1.75 2.  ]\n"
          ]
        }
      ]
    },
    {
      "cell_type": "markdown",
      "source": [
        "Crear un matrix de 4 filas y 5 columnas\n",
        "\n",
        "\n",
        "\n",
        "\n",
        ", lleno completamente del mismo valor 5.\n"
      ],
      "metadata": {
        "id": "bnV275Eox2jl"
      }
    },
    {
      "cell_type": "markdown",
      "source": [
        "# Numeros aleatorios con NumPy"
      ],
      "metadata": {
        "id": "OUREH8VPrPDX"
      }
    },
    {
      "cell_type": "code",
      "source": [
        "# generar arreglo con nros enteros valor inicial,valor final, tamaño\n",
        "x = np.random.randint(1,10,size=10)\n",
        "\n",
        "print(x)\n"
      ],
      "metadata": {
        "id": "KXfg9pn0vL0I",
        "colab": {
          "base_uri": "https://localhost:8080/"
        },
        "outputId": "7b66d1f9-cef6-4e94-cc69-5dfa86a63d40"
      },
      "execution_count": null,
      "outputs": [
        {
          "output_type": "stream",
          "name": "stdout",
          "text": [
            "[1 5 7 8 6 3 7 4 3 7]\n"
          ]
        }
      ]
    },
    {
      "cell_type": "code",
      "source": [
        "#nros aleatorios entre 0 y 1\n",
        "b=np.random.rand(25)\n",
        "print(b)"
      ],
      "metadata": {
        "id": "nwCOp2tHw0X8",
        "colab": {
          "base_uri": "https://localhost:8080/"
        },
        "outputId": "c66bbfe2-7386-4a2b-9b55-bd2d6b1eba40"
      },
      "execution_count": null,
      "outputs": [
        {
          "output_type": "stream",
          "name": "stdout",
          "text": [
            "[0.44827754 0.68381969 0.50540853 0.18387021 0.55773686 0.19458879\n",
            " 0.68872373 0.64164916 0.0801064  0.68500364 0.22740472 0.76408484\n",
            " 0.8719107  0.01999266 0.43939642 0.18842023 0.03406584 0.63154051\n",
            " 0.80054821 0.31288186 0.28997604 0.26548087 0.98652673 0.74183314\n",
            " 0.98731478]\n"
          ]
        }
      ]
    },
    {
      "cell_type": "markdown",
      "source": [
        "Crear un arreglo tipo matriz de 5 filas y 3 columnas con numeros aleatorios entre 5 y 6."
      ],
      "metadata": {
        "id": "wMhpKaP22fX_"
      }
    },
    {
      "cell_type": "markdown",
      "source": [
        "# Operando sobre arreglos"
      ],
      "metadata": {
        "id": "FwhG9gRDxCWj"
      }
    },
    {
      "cell_type": "code",
      "source": [
        "a=np.array([1,2,3,4,5])\n",
        "\n",
        "b=a**3\n",
        "\n",
        "print(b)"
      ],
      "metadata": {
        "id": "uMhgdRS4wax4",
        "colab": {
          "base_uri": "https://localhost:8080/"
        },
        "outputId": "1f79601c-b4bb-4201-b2d3-3f721d0de116"
      },
      "execution_count": null,
      "outputs": [
        {
          "output_type": "stream",
          "name": "stdout",
          "text": [
            "[  1   8  27  64 125]\n"
          ]
        }
      ]
    },
    {
      "cell_type": "code",
      "source": [
        "#podemos operar vectorialmente, siempre que sean de las mismos tamaños\n",
        "c=np.array([6,7,8,9,10])\n",
        "\n",
        "d=a+c\n",
        "\n",
        "print(d)"
      ],
      "metadata": {
        "id": "jRTgWiJfxnpk",
        "colab": {
          "base_uri": "https://localhost:8080/"
        },
        "outputId": "c5fad844-eaed-49df-b177-a5c767376020"
      },
      "execution_count": null,
      "outputs": [
        {
          "output_type": "stream",
          "name": "stdout",
          "text": [
            "[ 7  9 11 13 15]\n"
          ]
        }
      ]
    },
    {
      "cell_type": "code",
      "source": [
        "arr = np.array([1,2,3,4,5])\n",
        "random_elements = np.random.choice(arr, size=(7,9))\n",
        "\n",
        "print(random_elements)"
      ],
      "metadata": {
        "colab": {
          "base_uri": "https://localhost:8080/"
        },
        "id": "O1dJZ3dW1pKs",
        "outputId": "79e81bc4-a0f0-4521-9223-505e90c8a2d0"
      },
      "execution_count": null,
      "outputs": [
        {
          "output_type": "stream",
          "name": "stdout",
          "text": [
            "[[4 3 2 4 2 2 4 3 2]\n",
            " [5 4 3 2 3 1 3 3 1]\n",
            " [5 4 2 2 5 5 4 2 1]\n",
            " [2 4 5 3 4 3 3 5 1]\n",
            " [3 4 5 5 1 5 1 4 4]\n",
            " [4 3 4 4 1 2 3 4 4]\n",
            " [5 4 2 1 3 3 2 1 4]]\n"
          ]
        }
      ]
    },
    {
      "cell_type": "markdown",
      "source": [
        "Ejercicio crear una arreglo con los primeros 11 nros primos, y luego usarlo como insumo para generar una matriz de 4 filas y 7 columnas"
      ],
      "metadata": {
        "id": "38EZK2lf3TMs"
      }
    },
    {
      "cell_type": "code",
      "source": [
        "arr= np.array([2,3,5,7,11,13,17,19,23,29,31])\n",
        "random_elements=np.random.choice(arr,size=(4,7))\n",
        "print(random_elements)"
      ],
      "metadata": {
        "colab": {
          "base_uri": "https://localhost:8080/"
        },
        "id": "-9fmnYaPXoZd",
        "outputId": "4e99cdb2-067c-49ef-cbc6-c4da4343be18"
      },
      "execution_count": null,
      "outputs": [
        {
          "output_type": "stream",
          "name": "stdout",
          "text": [
            "[[11 31  5 29 29 31  3]\n",
            " [19  5 13 29 13 11 29]\n",
            " [19 29  5 31 11 17  5]\n",
            " [ 3 17  3  2  7  3 17]]\n"
          ]
        }
      ]
    },
    {
      "cell_type": "markdown",
      "source": [
        "#Manipulando arrays\n",
        "De manera muy parecida a las listas, los ndarrays permiten hacer slicing con []. Sus índices empiezan en 0.\n",
        "\n"
      ],
      "metadata": {
        "id": "tpLVHIWh4Dc6"
      }
    },
    {
      "cell_type": "code",
      "source": [
        "matrix_cool = np.arange(9).reshape(3, 3)\n",
        "print(matrix_cool)"
      ],
      "metadata": {
        "id": "EJXzRoWF2-i7",
        "colab": {
          "base_uri": "https://localhost:8080/"
        },
        "outputId": "454ac50f-048a-4c25-f47a-ab004e8fe5fd"
      },
      "execution_count": null,
      "outputs": [
        {
          "output_type": "stream",
          "name": "stdout",
          "text": [
            "[[0 1 2]\n",
            " [3 4 5]\n",
            " [6 7 8]]\n"
          ]
        }
      ]
    },
    {
      "cell_type": "code",
      "source": [
        "print(matrix_cool[1,2])\n"
      ],
      "metadata": {
        "id": "qUKVw0MM4R_6",
        "colab": {
          "base_uri": "https://localhost:8080/"
        },
        "outputId": "eaba39bb-3a65-4e56-c019-dd8fe64be109"
      },
      "execution_count": null,
      "outputs": [
        {
          "output_type": "stream",
          "name": "stdout",
          "text": [
            "5\n"
          ]
        }
      ]
    },
    {
      "cell_type": "code",
      "source": [
        "print(matrix_cool[0, :])\n"
      ],
      "metadata": {
        "id": "h1kYDAi54V4P",
        "colab": {
          "base_uri": "https://localhost:8080/"
        },
        "outputId": "d581b976-f94a-44c3-899d-fe3883782386"
      },
      "execution_count": null,
      "outputs": [
        {
          "output_type": "stream",
          "name": "stdout",
          "text": [
            "[0 1 2]\n"
          ]
        }
      ]
    },
    {
      "cell_type": "code",
      "source": [
        "print(matrix_cool[:, 1])\n"
      ],
      "metadata": {
        "id": "O5VBfebI40cJ",
        "colab": {
          "base_uri": "https://localhost:8080/"
        },
        "outputId": "10cc7ad0-9a64-403c-f594-bae5a4e2aba2"
      },
      "execution_count": null,
      "outputs": [
        {
          "output_type": "stream",
          "name": "stdout",
          "text": [
            "[1 4 7]\n"
          ]
        }
      ]
    },
    {
      "cell_type": "code",
      "source": [
        "print(matrix_cool[0:2, 0:2])\n"
      ],
      "metadata": {
        "id": "HMQCczDk422P",
        "colab": {
          "base_uri": "https://localhost:8080/"
        },
        "outputId": "117a83cd-8338-4635-f45f-dafc51b605e5"
      },
      "execution_count": null,
      "outputs": [
        {
          "output_type": "stream",
          "name": "stdout",
          "text": [
            "[[0 1]\n",
            " [3 4]]\n"
          ]
        }
      ]
    },
    {
      "cell_type": "code",
      "source": [
        "print(matrix_cool[:, :])\n"
      ],
      "metadata": {
        "id": "lyeTorly5AXU",
        "colab": {
          "base_uri": "https://localhost:8080/"
        },
        "outputId": "3f5d741e-e1f3-434e-cbcb-4832826934de"
      },
      "execution_count": null,
      "outputs": [
        {
          "output_type": "stream",
          "name": "stdout",
          "text": [
            "[[0 1 2]\n",
            " [3 4 5]\n",
            " [6 7 8]]\n"
          ]
        }
      ]
    },
    {
      "cell_type": "markdown",
      "source": [
        "Crear un arreglo de nro enteros aleatorios, entre 1 y 100,de 5 filas por 5 columnas, y devolver la matriz central de 3x3 elementos"
      ],
      "metadata": {
        "id": "XmF6FkEl5G3B"
      }
    },
    {
      "cell_type": "code",
      "source": [
        "matriz = np.random.randint(1, 101, size=(5, 5))\n",
        "\n",
        "print(\"Matriz original:\")\n",
        "print(matriz)\n",
        "\n",
        "\n",
        "matriz_central = matriz[1:4, 1:4]\n",
        "\n",
        "print(\"\\nMatriz central:\")\n",
        "print(matriz_central)"
      ],
      "metadata": {
        "colab": {
          "base_uri": "https://localhost:8080/"
        },
        "id": "Yu8_mcJTbtPg",
        "outputId": "c28cc18f-8d38-48b4-c6e5-1caeda84c92b"
      },
      "execution_count": null,
      "outputs": [
        {
          "output_type": "stream",
          "name": "stdout",
          "text": [
            "Matriz original:\n",
            "[[57 74 77 31  3]\n",
            " [67  8 37  2 71]\n",
            " [81 94 55 54 81]\n",
            " [58 75 53 18 42]\n",
            " [15 23 64 28 44]]\n",
            "\n",
            "Matriz central:\n",
            "[[ 8 37  2]\n",
            " [94 55 54]\n",
            " [75 53 18]]\n"
          ]
        }
      ]
    },
    {
      "cell_type": "markdown",
      "source": [],
      "metadata": {
        "id": "yRcRWHCjZycK"
      }
    },
    {
      "cell_type": "markdown",
      "source": [
        "#Estadística"
      ],
      "metadata": {
        "id": "xiDxsgtR56k0"
      }
    },
    {
      "cell_type": "code",
      "source": [
        "height_list = [74, 74, 72, 72, 73, 69, 69, 71, 76, 71, 73, 73, 74, 74, 69, 70, 73, 75, 78, 79, 76, 74, 76, 72, 71, 75]\n",
        "print(np.mean(height_list))\n",
        "print(np.median(height_list))\n",
        "print(np.std(height_list))"
      ],
      "metadata": {
        "id": "76J6QO9p6CXg"
      },
      "execution_count": null,
      "outputs": []
    },
    {
      "cell_type": "code",
      "source": [
        "#minimos y maximos \n",
        "print(np.max(height_list))\n",
        "print(np.min(height_list))"
      ],
      "metadata": {
        "id": "Uja3tMtN6dOL"
      },
      "execution_count": null,
      "outputs": []
    },
    {
      "cell_type": "markdown",
      "source": [
        ".rand() y .uniform()\n",
        ".rand(): números aleatorios en una distribución uniforme. Permite crear ndarrays.\n",
        ".uniform(): igual que rand, pero permite ingresar los límites de la muestra."
      ],
      "metadata": {
        "id": "fjI7WkvW0e4R"
      }
    },
    {
      "cell_type": "markdown",
      "source": [
        "# Distribuciones\n"
      ],
      "metadata": {
        "id": "jcOiNp05bhQA"
      }
    },
    {
      "cell_type": "code",
      "source": [
        "rand = np.random.rand(10000)\n",
        "plt.hist(rand, bins=50)\n",
        "plt.show()"
      ],
      "metadata": {
        "id": "_isDdAwU0t4Z"
      },
      "execution_count": null,
      "outputs": []
    },
    {
      "cell_type": "code",
      "source": [
        "import numpy as np\n",
        "import matplotlib.pyplot as plt\n",
        "\n",
        "uniform = np.random.uniform(low=18, high=90, size=10000)\n",
        "plt.hist(uniform, bins=50)\n",
        "plt.show()"
      ],
      "metadata": {
        "id": "x4Fy8QTLyCwV"
      },
      "execution_count": null,
      "outputs": []
    },
    {
      "cell_type": "code",
      "source": [
        "normal = np.random.normal(0, 3, 10000)\n",
        "plt.hist(normal, bins=50)\n",
        "plt.title('Distribución normal')\n",
        "\n",
        "plt.show()"
      ],
      "metadata": {
        "id": "HGoq1VOC0RJs"
      },
      "execution_count": null,
      "outputs": []
    },
    {
      "cell_type": "code",
      "source": [
        "arr = np.random.randint(1, 101, size=(5, 5))\n",
        "print(arr)\n",
        "print(\"__________________________\")\n",
        "matriz_cen = arr[1:4, 1:4]\n",
        "print(matriz_cen)"
      ],
      "metadata": {
        "id": "o9fn01kKN929"
      },
      "execution_count": null,
      "outputs": []
    },
    {
      "cell_type": "code",
      "source": [
        "arr = np.array([2, 3, 5, 7, 11, 13, 17, 19, 23,29,31])\n",
        "random_elements = np.random.choice(arr, size=(4,7))\n",
        "\n",
        "print(random_elements)"
      ],
      "metadata": {
        "id": "KcfPRTU5UUXS"
      },
      "execution_count": null,
      "outputs": []
    }
  ]
}